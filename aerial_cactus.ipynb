{
  "nbformat": 4,
  "nbformat_minor": 0,
  "metadata": {
    "accelerator": "TPU",
    "colab": {
      "name": "aerial-cactus.ipynb",
      "version": "0.3.2",
      "provenance": [],
      "include_colab_link": true
    },
    "kernelspec": {
      "display_name": "Python 3",
      "name": "python3"
    },
    "language_info": {
      "codemirror_mode": {
        "name": "ipython",
        "version": 3
      },
      "file_extension": ".py",
      "mimetype": "text/x-python",
      "name": "python",
      "nbconvert_exporter": "python",
      "pygments_lexer": "ipython3",
      "version": "3.6.6"
    },
    "widgets": {
      "application/vnd.jupyter.widget-state+json": {
        "state": {
          "128b2add8cf242afb5064a08dfd31421": {
            "model_module": "@jupyter-widgets/controls",
            "model_module_version": "1.4.0",
            "model_name": "HTMLModel",
            "state": {
              "_dom_classes": [],
              "_model_module": "@jupyter-widgets/controls",
              "_model_module_version": "1.4.0",
              "_model_name": "HTMLModel",
              "_view_count": null,
              "_view_module": "@jupyter-widgets/controls",
              "_view_module_version": "1.4.0",
              "_view_name": "HTMLView",
              "description": "",
              "description_tooltip": null,
              "layout": "IPY_MODEL_f7caa9aa4e9549858b86de1f169b2503",
              "placeholder": "​",
              "style": "IPY_MODEL_cd62f8d5c91d43c5b30bebf886d3396d",
              "value": "100% 17500/17500 [01:10&lt;00:00, 244.94it/s]"
            }
          },
          "299691b59e9145e784c70b68adc2ab96": {
            "model_module": "@jupyter-widgets/base",
            "model_module_version": "1.1.0",
            "model_name": "LayoutModel",
            "state": {
              "_model_module": "@jupyter-widgets/base",
              "_model_module_version": "1.1.0",
              "_model_name": "LayoutModel",
              "_view_count": null,
              "_view_module": "@jupyter-widgets/base",
              "_view_module_version": "1.1.0",
              "_view_name": "LayoutView",
              "align_content": null,
              "align_items": null,
              "align_self": null,
              "border": null,
              "bottom": null,
              "display": null,
              "flex": null,
              "flex_flow": null,
              "grid_area": null,
              "grid_auto_columns": null,
              "grid_auto_flow": null,
              "grid_auto_rows": null,
              "grid_column": null,
              "grid_gap": null,
              "grid_row": null,
              "grid_template_areas": null,
              "grid_template_columns": null,
              "grid_template_rows": null,
              "height": null,
              "justify_content": null,
              "left": null,
              "margin": null,
              "max_height": null,
              "max_width": null,
              "min_height": null,
              "min_width": null,
              "order": null,
              "overflow": null,
              "overflow_x": null,
              "overflow_y": null,
              "padding": null,
              "right": null,
              "top": null,
              "visibility": null,
              "width": null
            }
          },
          "7128e4217742404c962144b36256fcfa": {
            "model_module": "@jupyter-widgets/controls",
            "model_module_version": "1.4.0",
            "model_name": "DescriptionStyleModel",
            "state": {
              "_model_module": "@jupyter-widgets/controls",
              "_model_module_version": "1.4.0",
              "_model_name": "DescriptionStyleModel",
              "_view_count": null,
              "_view_module": "@jupyter-widgets/base",
              "_view_module_version": "1.1.0",
              "_view_name": "StyleView",
              "description_width": ""
            }
          },
          "7ae015154a0e43e98953c54e16fd8221": {
            "model_module": "@jupyter-widgets/controls",
            "model_module_version": "1.4.0",
            "model_name": "ProgressStyleModel",
            "state": {
              "_model_module": "@jupyter-widgets/controls",
              "_model_module_version": "1.4.0",
              "_model_name": "ProgressStyleModel",
              "_view_count": null,
              "_view_module": "@jupyter-widgets/base",
              "_view_module_version": "1.1.0",
              "_view_name": "StyleView",
              "bar_color": null,
              "description_width": ""
            }
          },
          "7f9b063708914cc0829013c8ada868fe": {
            "model_module": "@jupyter-widgets/controls",
            "model_module_version": "1.4.0",
            "model_name": "HTMLModel",
            "state": {
              "_dom_classes": [],
              "_model_module": "@jupyter-widgets/controls",
              "_model_module_version": "1.4.0",
              "_model_name": "HTMLModel",
              "_view_count": null,
              "_view_module": "@jupyter-widgets/controls",
              "_view_module_version": "1.4.0",
              "_view_name": "HTMLView",
              "description": "",
              "description_tooltip": null,
              "layout": "IPY_MODEL_9056a161534143ebb2eb828b9049b4d1",
              "placeholder": "​",
              "style": "IPY_MODEL_7128e4217742404c962144b36256fcfa",
              "value": "100% 4000/4000 [00:08&lt;00:00, 453.58it/s]"
            }
          },
          "9056a161534143ebb2eb828b9049b4d1": {
            "model_module": "@jupyter-widgets/base",
            "model_module_version": "1.1.0",
            "model_name": "LayoutModel",
            "state": {
              "_model_module": "@jupyter-widgets/base",
              "_model_module_version": "1.1.0",
              "_model_name": "LayoutModel",
              "_view_count": null,
              "_view_module": "@jupyter-widgets/base",
              "_view_module_version": "1.1.0",
              "_view_name": "LayoutView",
              "align_content": null,
              "align_items": null,
              "align_self": null,
              "border": null,
              "bottom": null,
              "display": null,
              "flex": null,
              "flex_flow": null,
              "grid_area": null,
              "grid_auto_columns": null,
              "grid_auto_flow": null,
              "grid_auto_rows": null,
              "grid_column": null,
              "grid_gap": null,
              "grid_row": null,
              "grid_template_areas": null,
              "grid_template_columns": null,
              "grid_template_rows": null,
              "height": null,
              "justify_content": null,
              "left": null,
              "margin": null,
              "max_height": null,
              "max_width": null,
              "min_height": null,
              "min_width": null,
              "order": null,
              "overflow": null,
              "overflow_x": null,
              "overflow_y": null,
              "padding": null,
              "right": null,
              "top": null,
              "visibility": null,
              "width": null
            }
          },
          "a5b268d04e044702ad0f6ee15072c713": {
            "model_module": "@jupyter-widgets/base",
            "model_module_version": "1.1.0",
            "model_name": "LayoutModel",
            "state": {
              "_model_module": "@jupyter-widgets/base",
              "_model_module_version": "1.1.0",
              "_model_name": "LayoutModel",
              "_view_count": null,
              "_view_module": "@jupyter-widgets/base",
              "_view_module_version": "1.1.0",
              "_view_name": "LayoutView",
              "align_content": null,
              "align_items": null,
              "align_self": null,
              "border": null,
              "bottom": null,
              "display": null,
              "flex": null,
              "flex_flow": null,
              "grid_area": null,
              "grid_auto_columns": null,
              "grid_auto_flow": null,
              "grid_auto_rows": null,
              "grid_column": null,
              "grid_gap": null,
              "grid_row": null,
              "grid_template_areas": null,
              "grid_template_columns": null,
              "grid_template_rows": null,
              "height": null,
              "justify_content": null,
              "left": null,
              "margin": null,
              "max_height": null,
              "max_width": null,
              "min_height": null,
              "min_width": null,
              "order": null,
              "overflow": null,
              "overflow_x": null,
              "overflow_y": null,
              "padding": null,
              "right": null,
              "top": null,
              "visibility": null,
              "width": null
            }
          },
          "bf22429e17a14535a2a86ca999c0080a": {
            "model_module": "@jupyter-widgets/base",
            "model_module_version": "1.1.0",
            "model_name": "LayoutModel",
            "state": {
              "_model_module": "@jupyter-widgets/base",
              "_model_module_version": "1.1.0",
              "_model_name": "LayoutModel",
              "_view_count": null,
              "_view_module": "@jupyter-widgets/base",
              "_view_module_version": "1.1.0",
              "_view_name": "LayoutView",
              "align_content": null,
              "align_items": null,
              "align_self": null,
              "border": null,
              "bottom": null,
              "display": null,
              "flex": null,
              "flex_flow": null,
              "grid_area": null,
              "grid_auto_columns": null,
              "grid_auto_flow": null,
              "grid_auto_rows": null,
              "grid_column": null,
              "grid_gap": null,
              "grid_row": null,
              "grid_template_areas": null,
              "grid_template_columns": null,
              "grid_template_rows": null,
              "height": null,
              "justify_content": null,
              "left": null,
              "margin": null,
              "max_height": null,
              "max_width": null,
              "min_height": null,
              "min_width": null,
              "order": null,
              "overflow": null,
              "overflow_x": null,
              "overflow_y": null,
              "padding": null,
              "right": null,
              "top": null,
              "visibility": null,
              "width": null
            }
          },
          "c9c1b08968694cf3ab185fa37b984991": {
            "model_module": "@jupyter-widgets/base",
            "model_module_version": "1.1.0",
            "model_name": "LayoutModel",
            "state": {
              "_model_module": "@jupyter-widgets/base",
              "_model_module_version": "1.1.0",
              "_model_name": "LayoutModel",
              "_view_count": null,
              "_view_module": "@jupyter-widgets/base",
              "_view_module_version": "1.1.0",
              "_view_name": "LayoutView",
              "align_content": null,
              "align_items": null,
              "align_self": null,
              "border": null,
              "bottom": null,
              "display": null,
              "flex": null,
              "flex_flow": null,
              "grid_area": null,
              "grid_auto_columns": null,
              "grid_auto_flow": null,
              "grid_auto_rows": null,
              "grid_column": null,
              "grid_gap": null,
              "grid_row": null,
              "grid_template_areas": null,
              "grid_template_columns": null,
              "grid_template_rows": null,
              "height": null,
              "justify_content": null,
              "left": null,
              "margin": null,
              "max_height": null,
              "max_width": null,
              "min_height": null,
              "min_width": null,
              "order": null,
              "overflow": null,
              "overflow_x": null,
              "overflow_y": null,
              "padding": null,
              "right": null,
              "top": null,
              "visibility": null,
              "width": null
            }
          },
          "cd62f8d5c91d43c5b30bebf886d3396d": {
            "model_module": "@jupyter-widgets/controls",
            "model_module_version": "1.4.0",
            "model_name": "DescriptionStyleModel",
            "state": {
              "_model_module": "@jupyter-widgets/controls",
              "_model_module_version": "1.4.0",
              "_model_name": "DescriptionStyleModel",
              "_view_count": null,
              "_view_module": "@jupyter-widgets/base",
              "_view_module_version": "1.1.0",
              "_view_name": "StyleView",
              "description_width": ""
            }
          },
          "d1e935ab509240bd9a7c0f9a90b4fefc": {
            "model_module": "@jupyter-widgets/controls",
            "model_module_version": "1.4.0",
            "model_name": "HBoxModel",
            "state": {
              "_dom_classes": [],
              "_model_module": "@jupyter-widgets/controls",
              "_model_module_version": "1.4.0",
              "_model_name": "HBoxModel",
              "_view_count": null,
              "_view_module": "@jupyter-widgets/controls",
              "_view_module_version": "1.4.0",
              "_view_name": "HBoxView",
              "box_style": "",
              "children": [
                "IPY_MODEL_d2ada5704d134fb3aae16462f2b01606",
                "IPY_MODEL_7f9b063708914cc0829013c8ada868fe"
              ],
              "layout": "IPY_MODEL_c9c1b08968694cf3ab185fa37b984991"
            }
          },
          "d2ada5704d134fb3aae16462f2b01606": {
            "model_module": "@jupyter-widgets/controls",
            "model_module_version": "1.4.0",
            "model_name": "IntProgressModel",
            "state": {
              "_dom_classes": [],
              "_model_module": "@jupyter-widgets/controls",
              "_model_module_version": "1.4.0",
              "_model_name": "IntProgressModel",
              "_view_count": null,
              "_view_module": "@jupyter-widgets/controls",
              "_view_module_version": "1.4.0",
              "_view_name": "ProgressView",
              "bar_style": "success",
              "description": "",
              "description_tooltip": null,
              "layout": "IPY_MODEL_299691b59e9145e784c70b68adc2ab96",
              "max": 4000,
              "min": 0,
              "orientation": "horizontal",
              "style": "IPY_MODEL_f5a2165408704f058c5fdef90a2def31",
              "value": 4000
            }
          },
          "d30abda9edd7407396609150e5444796": {
            "model_module": "@jupyter-widgets/controls",
            "model_module_version": "1.4.0",
            "model_name": "HBoxModel",
            "state": {
              "_dom_classes": [],
              "_model_module": "@jupyter-widgets/controls",
              "_model_module_version": "1.4.0",
              "_model_name": "HBoxModel",
              "_view_count": null,
              "_view_module": "@jupyter-widgets/controls",
              "_view_module_version": "1.4.0",
              "_view_name": "HBoxView",
              "box_style": "",
              "children": [
                "IPY_MODEL_e060d4f3ad624701955b0a97c28ba37c",
                "IPY_MODEL_128b2add8cf242afb5064a08dfd31421"
              ],
              "layout": "IPY_MODEL_a5b268d04e044702ad0f6ee15072c713"
            }
          },
          "e060d4f3ad624701955b0a97c28ba37c": {
            "model_module": "@jupyter-widgets/controls",
            "model_module_version": "1.4.0",
            "model_name": "IntProgressModel",
            "state": {
              "_dom_classes": [],
              "_model_module": "@jupyter-widgets/controls",
              "_model_module_version": "1.4.0",
              "_model_name": "IntProgressModel",
              "_view_count": null,
              "_view_module": "@jupyter-widgets/controls",
              "_view_module_version": "1.4.0",
              "_view_name": "ProgressView",
              "bar_style": "success",
              "description": "",
              "description_tooltip": null,
              "layout": "IPY_MODEL_bf22429e17a14535a2a86ca999c0080a",
              "max": 17500,
              "min": 0,
              "orientation": "horizontal",
              "style": "IPY_MODEL_7ae015154a0e43e98953c54e16fd8221",
              "value": 17500
            }
          },
          "f5a2165408704f058c5fdef90a2def31": {
            "model_module": "@jupyter-widgets/controls",
            "model_module_version": "1.4.0",
            "model_name": "ProgressStyleModel",
            "state": {
              "_model_module": "@jupyter-widgets/controls",
              "_model_module_version": "1.4.0",
              "_model_name": "ProgressStyleModel",
              "_view_count": null,
              "_view_module": "@jupyter-widgets/base",
              "_view_module_version": "1.1.0",
              "_view_name": "StyleView",
              "bar_color": null,
              "description_width": ""
            }
          },
          "f7caa9aa4e9549858b86de1f169b2503": {
            "model_module": "@jupyter-widgets/base",
            "model_module_version": "1.1.0",
            "model_name": "LayoutModel",
            "state": {
              "_model_module": "@jupyter-widgets/base",
              "_model_module_version": "1.1.0",
              "_model_name": "LayoutModel",
              "_view_count": null,
              "_view_module": "@jupyter-widgets/base",
              "_view_module_version": "1.1.0",
              "_view_name": "LayoutView",
              "align_content": null,
              "align_items": null,
              "align_self": null,
              "border": null,
              "bottom": null,
              "display": null,
              "flex": null,
              "flex_flow": null,
              "grid_area": null,
              "grid_auto_columns": null,
              "grid_auto_flow": null,
              "grid_auto_rows": null,
              "grid_column": null,
              "grid_gap": null,
              "grid_row": null,
              "grid_template_areas": null,
              "grid_template_columns": null,
              "grid_template_rows": null,
              "height": null,
              "justify_content": null,
              "left": null,
              "margin": null,
              "max_height": null,
              "max_width": null,
              "min_height": null,
              "min_width": null,
              "order": null,
              "overflow": null,
              "overflow_x": null,
              "overflow_y": null,
              "padding": null,
              "right": null,
              "top": null,
              "visibility": null,
              "width": null
            }
          }
        },
        "version_major": 2,
        "version_minor": 0
      }
    }
  },
  "cells": [
    {
      "cell_type": "markdown",
      "metadata": {
        "id": "view-in-github",
        "colab_type": "text"
      },
      "source": [
        "<a href=\"https://colab.research.google.com/github/msandeep27/Kaggle-Aerial-Cactus-Identification/blob/master/aerial_cactus.ipynb\" target=\"_parent\"><img src=\"https://colab.research.google.com/assets/colab-badge.svg\" alt=\"Open In Colab\"/></a>"
      ]
    },
    {
      "cell_type": "code",
      "metadata": {
        "colab_type": "code",
        "id": "ncv9LRjwXP_g",
        "colab": {}
      },
      "source": [
        "import json\n",
        "import os\n",
        "import gzip\n",
        "import io"
      ],
      "execution_count": 0,
      "outputs": []
    },
    {
      "cell_type": "code",
      "metadata": {
        "colab_type": "code",
        "id": "PLpKNR9bYtDe",
        "outputId": "47e57014-374c-4213-9976-d11e34c534dd",
        "colab": {
          "base_uri": "https://localhost:8080/",
          "height": 34
        }
      },
      "source": [
        "print(os.listdir(\"../input\"))"
      ],
      "execution_count": 0,
      "outputs": [
        {
          "output_type": "stream",
          "text": [
            "['keras-pretrained-models', 'aerial-cactus-identification']\n"
          ],
          "name": "stdout"
        }
      ]
    },
    {
      "cell_type": "code",
      "metadata": {
        "colab_type": "code",
        "id": "DiXbfstiZ3kV",
        "colab": {}
      },
      "source": [
        "import numpy as np # linear algebra\n",
        "import pandas as pd # data processing, CSV file I/O (e.g. pd.read_csv)\n",
        "import matplotlib.pyplot as plt\n",
        "import seaborn as sns\n",
        "import imageio\n",
        "import cv2\n",
        "from tqdm import tqdm, tqdm_notebook\n"
      ],
      "execution_count": 0,
      "outputs": []
    },
    {
      "cell_type": "code",
      "metadata": {
        "colab_type": "code",
        "id": "PvxXL26VaaNH",
        "outputId": "926ed098-4eb0-4cfe-ea92-dd151972f285",
        "colab": {
          "base_uri": "https://localhost:8080/",
          "height": 204
        }
      },
      "source": [
        "train=pd.read_csv(\"../input/aerial-cactus-identification/train.csv\")\n",
        "train.head()"
      ],
      "execution_count": 0,
      "outputs": [
        {
          "output_type": "execute_result",
          "data": {
            "text/html": [
              "<div>\n",
              "<style scoped>\n",
              "    .dataframe tbody tr th:only-of-type {\n",
              "        vertical-align: middle;\n",
              "    }\n",
              "\n",
              "    .dataframe tbody tr th {\n",
              "        vertical-align: top;\n",
              "    }\n",
              "\n",
              "    .dataframe thead th {\n",
              "        text-align: right;\n",
              "    }\n",
              "</style>\n",
              "<table border=\"1\" class=\"dataframe\">\n",
              "  <thead>\n",
              "    <tr style=\"text-align: right;\">\n",
              "      <th></th>\n",
              "      <th>id</th>\n",
              "      <th>has_cactus</th>\n",
              "    </tr>\n",
              "  </thead>\n",
              "  <tbody>\n",
              "    <tr>\n",
              "      <th>0</th>\n",
              "      <td>0004be2cfeaba1c0361d39e2b000257b.jpg</td>\n",
              "      <td>1</td>\n",
              "    </tr>\n",
              "    <tr>\n",
              "      <th>1</th>\n",
              "      <td>000c8a36845c0208e833c79c1bffedd1.jpg</td>\n",
              "      <td>1</td>\n",
              "    </tr>\n",
              "    <tr>\n",
              "      <th>2</th>\n",
              "      <td>000d1e9a533f62e55c289303b072733d.jpg</td>\n",
              "      <td>1</td>\n",
              "    </tr>\n",
              "    <tr>\n",
              "      <th>3</th>\n",
              "      <td>0011485b40695e9138e92d0b3fb55128.jpg</td>\n",
              "      <td>1</td>\n",
              "    </tr>\n",
              "    <tr>\n",
              "      <th>4</th>\n",
              "      <td>0014d7a11e90b62848904c1418fc8cf2.jpg</td>\n",
              "      <td>1</td>\n",
              "    </tr>\n",
              "  </tbody>\n",
              "</table>\n",
              "</div>"
            ],
            "text/plain": [
              "                                     id  has_cactus\n",
              "0  0004be2cfeaba1c0361d39e2b000257b.jpg           1\n",
              "1  000c8a36845c0208e833c79c1bffedd1.jpg           1\n",
              "2  000d1e9a533f62e55c289303b072733d.jpg           1\n",
              "3  0011485b40695e9138e92d0b3fb55128.jpg           1\n",
              "4  0014d7a11e90b62848904c1418fc8cf2.jpg           1"
            ]
          },
          "metadata": {
            "tags": []
          },
          "execution_count": 4
        }
      ]
    },
    {
      "cell_type": "code",
      "metadata": {
        "colab_type": "code",
        "id": "X_URhPz0a9Sd",
        "colab": {}
      },
      "source": [
        "import tensorflow as tf\n",
        "from tensorflow import keras\n",
        "import tensorflow.keras.preprocessing.image as image\n",
        "import IPython.display as display\n",
        "import matplotlib.image as mping;\n",
        "import scipy.ndimage\n",
        "from sklearn.metrics import confusion_matrix"
      ],
      "execution_count": 0,
      "outputs": []
    },
    {
      "cell_type": "code",
      "metadata": {
        "colab_type": "code",
        "id": "EMz2yy2xpuYK",
        "outputId": "c3e83c7f-c9a5-4a4f-d3de-67b5b3c3f71e",
        "colab": {
          "base_uri": "https://localhost:8080/",
          "height": 301
        }
      },
      "source": [
        "defaultTrainPath='../input/aerial-cactus-identification/train/train/'\n",
        "defaultTestPath='../input/aerial-cactus-identification/test/test/'\n",
        "\n",
        "sns.countplot(x='has_cactus',data=train)"
      ],
      "execution_count": 0,
      "outputs": [
        {
          "output_type": "execute_result",
          "data": {
            "text/plain": [
              "<matplotlib.axes._subplots.AxesSubplot at 0x7f72346052e8>"
            ]
          },
          "metadata": {
            "tags": []
          },
          "execution_count": 6
        },
        {
          "output_type": "display_data",
          "data": {
            "image/png": "[encoded data removed]",
            "text/plain": [
              "<Figure size 432x288 with 1 Axes>"
            ]
          },
          "metadata": {
            "tags": [],
            "needs_background": "light"
          }
        }
      ]
    },
    {
      "cell_type": "code",
      "metadata": {
        "colab_type": "code",
        "id": "XqdM1y48waA7",
        "outputId": "162dbe04-b118-4639-ef5a-d55072df8851",
        "colab": {
          "base_uri": "https://localhost:8080/",
          "height": 34
        }
      },
      "source": [
        "train.shape"
      ],
      "execution_count": 0,
      "outputs": [
        {
          "output_type": "execute_result",
          "data": {
            "text/plain": [
              "(17500, 2)"
            ]
          },
          "metadata": {
            "tags": []
          },
          "execution_count": 7
        }
      ]
    },
    {
      "cell_type": "code",
      "metadata": {
        "colab_type": "code",
        "id": "KaKg23C9caxu",
        "outputId": "e48215f0-13d3-43f7-86b9-48907f5923b2",
        "colab": {
          "base_uri": "https://localhost:8080/",
          "height": 587
        }
      },
      "source": [
        "fig, axarr = plt.subplots(2, 8, figsize=(30, 8))\n",
        "cactus_count=0;\n",
        "no_cactus=0;\n",
        "  \n",
        "for i,row in train[:1000].iterrows():\n",
        "  if((row['has_cactus']==1) & (cactus_count<=7)):\n",
        "    img1=imageio.imread(defaultTrainPath+row['id'])\n",
        "    axarr[0,cactus_count].imshow(img1,cmap=plt.cm.gray)\n",
        "    height, width, channels = img1.shape\n",
        "    axarr[0,cactus_count].set_title(\"Has Cactus height \"+str(height) +\"\\nwidth \"+str(width) +\"\\nchannels\"+str(channels)+\"\\n\"+str(row['id']), fontsize=8)\n",
        "   # print(row['id'])\n",
        "    cactus_count=cactus_count+1;\n",
        "  elif ((row['has_cactus']==0) & (no_cactus<=7)):\n",
        "    img1=imageio.imread(defaultTrainPath+row['id'])\n",
        "    axarr[1,no_cactus].imshow(img1)\n",
        "    height, width, channels = img1.shape\n",
        "   # print(row['id'])\n",
        "\n",
        "    axarr[1,no_cactus].set_title(\"Has Cactus height \"+str(height) +\"\\nwidth \"+str(width) +\"\\nchannels\"+str(channels)+\"\\n\"+str(row['id']), fontsize=8)\n",
        "    no_cactus=no_cactus+1;"
      ],
      "execution_count": 0,
      "outputs": [
        {
          "output_type": "display_data",
          "data": {
            "image/png": "[encoded data removed]",
            "text/plain": [
              "<Figure size 2160x576 with 16 Axes>"
            ]
          },
          "metadata": {
            "tags": [],
            "needs_background": "light"
          }
        }
      ]
    },
    {
      "cell_type": "code",
      "metadata": {
        "colab_type": "code",
        "id": "gov9IVO81EVd",
        "colab": {}
      },
      "source": [
        "from tensorflow.keras.applications import resnet50,vgg16\n",
        "#from tensorflow.keras.applications.resnet50 import preprocess_input\n",
        "from tensorflow.keras.applications.vgg16 import preprocess_input\n",
        "\n",
        "from tensorflow.keras.preprocessing.image import ImageDataGenerator"
      ],
      "execution_count": 0,
      "outputs": []
    },
    {
      "cell_type": "code",
      "metadata": {
        "colab_type": "code",
        "id": "H633wKokej91",
        "colab": {}
      },
      "source": [
        "train['has_cactus']=train.has_cactus.astype('str')"
      ],
      "execution_count": 0,
      "outputs": []
    },
    {
      "cell_type": "code",
      "metadata": {
        "colab_type": "code",
        "id": "47Ld0xh1_iHz",
        "outputId": "db2984c6-60ff-4abe-f51f-52df08987de2",
        "colab": {
          "base_uri": "https://localhost:8080/",
          "height": 34
        }
      },
      "source": [
        "train.shape"
      ],
      "execution_count": 0,
      "outputs": [
        {
          "output_type": "execute_result",
          "data": {
            "text/plain": [
              "(17500, 2)"
            ]
          },
          "metadata": {
            "tags": []
          },
          "execution_count": 11
        }
      ]
    },
    {
      "cell_type": "code",
      "metadata": {
        "colab_type": "code",
        "id": "tySUWdHEey1u",
        "outputId": "4a468f17-6e0b-4238-d631-45466cec5dfe",
        "colab": {
          "base_uri": "https://localhost:8080/",
          "height": 34
        }
      },
      "source": [
        "Image_Shape=imageio.imread(defaultTrainPath+train.id[0]).shape\n",
        "print(Image_Shape)"
      ],
      "execution_count": 0,
      "outputs": [
        {
          "output_type": "stream",
          "text": [
            "(32, 32, 3)\n"
          ],
          "name": "stdout"
        }
      ]
    },
    {
      "cell_type": "code",
      "metadata": {
        "colab_type": "code",
        "id": "ClohVS0GHL62",
        "colab": {}
      },
      "source": [
        "datagen=ImageDataGenerator(rescale=(1./255))\n",
        "                         #  zoom_range=0.3,\n",
        "                          # validation_split=0.10)"
      ],
      "execution_count": 0,
      "outputs": []
    },
    {
      "cell_type": "code",
      "metadata": {
        "colab_type": "code",
        "id": "JP9Z15EpIux4",
        "outputId": "c198e35b-3646-4cad-8a1c-0a42b02f8c99",
        "colab": {
          "base_uri": "https://localhost:8080/",
          "height": 34
        }
      },
      "source": [
        "train_generator=datagen.flow_from_dataframe(train, directory=defaultTrainPath, x_col='id', y_col='has_cactus',subset=\"training\",target_size=(32, 32), color_mode='rgb', class_mode='binary', batch_size=32, shuffle=True, seed=1);"
      ],
      "execution_count": 0,
      "outputs": [
        {
          "output_type": "stream",
          "text": [
            "Found 17500 validated image filenames belonging to 2 classes.\n"
          ],
          "name": "stdout"
        }
      ]
    },
    {
      "cell_type": "code",
      "metadata": {
        "colab_type": "code",
        "id": "KDH1hAHxJTM9",
        "outputId": "c2f4c9f6-1d48-4e56-b159-057665d0b098",
        "colab": {
          "base_uri": "https://localhost:8080/",
          "height": 34
        }
      },
      "source": [
        "valid_generator=datagen.flow_from_dataframe(train, directory=defaultTrainPath, x_col='id', y_col='has_cactus',subset=\"validation\",target_size=(32, 32), color_mode='rgb', class_mode='binary', batch_size=32, shuffle=True, seed=1);"
      ],
      "execution_count": 0,
      "outputs": [
        {
          "output_type": "stream",
          "text": [
            "Found 0 validated image filenames belonging to 2 classes.\n"
          ],
          "name": "stdout"
        }
      ]
    },
    {
      "cell_type": "code",
      "metadata": {
        "colab_type": "code",
        "id": "uDeWF0GOLQKh",
        "outputId": "e3086edd-0ca5-45d1-86f4-b484a3a3212d",
        "colab": {
          "base_uri": "https://localhost:8080/",
          "height": 989
        }
      },
      "source": [
        "base_model=tf.keras.applications.vgg16.VGG16(input_shape=(Image_Shape),\n",
        "                                               include_top=False,\n",
        "                                               pooling='max',\n",
        "                                                weights='../input/keras-pretrained-models/vgg16_weights_tf_dim_ordering_tf_kernels_notop.h5')\n",
        "\n",
        "base_model.summary()\n"
      ],
      "execution_count": 0,
      "outputs": [
        {
          "output_type": "stream",
          "text": [
            "_________________________________________________________________\n",
            "Layer (type)                 Output Shape              Param #   \n",
            "=================================================================\n",
            "input_1 (InputLayer)         (None, 32, 32, 3)         0         \n",
            "_________________________________________________________________\n",
            "block1_conv1 (Conv2D)        (None, 32, 32, 64)        1792      \n",
            "_________________________________________________________________\n",
            "block1_conv2 (Conv2D)        (None, 32, 32, 64)        36928     \n",
            "_________________________________________________________________\n",
            "block1_pool (MaxPooling2D)   (None, 16, 16, 64)        0         \n",
            "_________________________________________________________________\n",
            "block2_conv1 (Conv2D)        (None, 16, 16, 128)       73856     \n",
            "_________________________________________________________________\n",
            "block2_conv2 (Conv2D)        (None, 16, 16, 128)       147584    \n",
            "_________________________________________________________________\n",
            "block2_pool (MaxPooling2D)   (None, 8, 8, 128)         0         \n",
            "_________________________________________________________________\n",
            "block3_conv1 (Conv2D)        (None, 8, 8, 256)         295168    \n",
            "_________________________________________________________________\n",
            "block3_conv2 (Conv2D)        (None, 8, 8, 256)         590080    \n",
            "_________________________________________________________________\n",
            "block3_conv3 (Conv2D)        (None, 8, 8, 256)         590080    \n",
            "_________________________________________________________________\n",
            "block3_pool (MaxPooling2D)   (None, 4, 4, 256)         0         \n",
            "_________________________________________________________________\n",
            "block4_conv1 (Conv2D)        (None, 4, 4, 512)         1180160   \n",
            "_________________________________________________________________\n",
            "block4_conv2 (Conv2D)        (None, 4, 4, 512)         2359808   \n",
            "_________________________________________________________________\n",
            "block4_conv3 (Conv2D)        (None, 4, 4, 512)         2359808   \n",
            "_________________________________________________________________\n",
            "block4_pool (MaxPooling2D)   (None, 2, 2, 512)         0         \n",
            "_________________________________________________________________\n",
            "block5_conv1 (Conv2D)        (None, 2, 2, 512)         2359808   \n",
            "_________________________________________________________________\n",
            "block5_conv2 (Conv2D)        (None, 2, 2, 512)         2359808   \n",
            "_________________________________________________________________\n",
            "block5_conv3 (Conv2D)        (None, 2, 2, 512)         2359808   \n",
            "_________________________________________________________________\n",
            "block5_pool (MaxPooling2D)   (None, 1, 1, 512)         0         \n",
            "_________________________________________________________________\n",
            "global_max_pooling2d (Global (None, 512)               0         \n",
            "=================================================================\n",
            "Total params: 14,714,688\n",
            "Trainable params: 14,714,688\n",
            "Non-trainable params: 0\n",
            "_________________________________________________________________\n"
          ],
          "name": "stdout"
        }
      ]
    },
    {
      "cell_type": "code",
      "metadata": {
        "colab_type": "code",
        "id": "UBqqv_BrZJq7",
        "outputId": "2d184ef3-0be6-412d-8f70-e3edad984781",
        "colab": {
          "base_uri": "https://localhost:8080/",
          "height": 935
        }
      },
      "source": [
        "base_model.trainable = False\n",
        "# Fine tune from this layer onwards\n",
        "fine_tune_at = 2\n",
        "\n",
        "# Freeze all the layers before the `fine_tune_at` layer\n",
        "#for layer in base_model.layers[:fine_tune_at]:\n",
        "#  layer.trainable =  False\n",
        "  \n",
        "base_model.summary()\n"
      ],
      "execution_count": 0,
      "outputs": [
        {
          "output_type": "stream",
          "text": [
            "_________________________________________________________________\n",
            "Layer (type)                 Output Shape              Param #   \n",
            "=================================================================\n",
            "input_1 (InputLayer)         (None, 32, 32, 3)         0         \n",
            "_________________________________________________________________\n",
            "block1_conv1 (Conv2D)        (None, 32, 32, 64)        1792      \n",
            "_________________________________________________________________\n",
            "block1_conv2 (Conv2D)        (None, 32, 32, 64)        36928     \n",
            "_________________________________________________________________\n",
            "block1_pool (MaxPooling2D)   (None, 16, 16, 64)        0         \n",
            "_________________________________________________________________\n",
            "block2_conv1 (Conv2D)        (None, 16, 16, 128)       73856     \n",
            "_________________________________________________________________\n",
            "block2_conv2 (Conv2D)        (None, 16, 16, 128)       147584    \n",
            "_________________________________________________________________\n",
            "block2_pool (MaxPooling2D)   (None, 8, 8, 128)         0         \n",
            "_________________________________________________________________\n",
            "block3_conv1 (Conv2D)        (None, 8, 8, 256)         295168    \n",
            "_________________________________________________________________\n",
            "block3_conv2 (Conv2D)        (None, 8, 8, 256)         590080    \n",
            "_________________________________________________________________\n",
            "block3_conv3 (Conv2D)        (None, 8, 8, 256)         590080    \n",
            "_________________________________________________________________\n",
            "block3_pool (MaxPooling2D)   (None, 4, 4, 256)         0         \n",
            "_________________________________________________________________\n",
            "block4_conv1 (Conv2D)        (None, 4, 4, 512)         1180160   \n",
            "_________________________________________________________________\n",
            "block4_conv2 (Conv2D)        (None, 4, 4, 512)         2359808   \n",
            "_________________________________________________________________\n",
            "block4_conv3 (Conv2D)        (None, 4, 4, 512)         2359808   \n",
            "_________________________________________________________________\n",
            "block4_pool (MaxPooling2D)   (None, 2, 2, 512)         0         \n",
            "_________________________________________________________________\n",
            "block5_conv1 (Conv2D)        (None, 2, 2, 512)         2359808   \n",
            "_________________________________________________________________\n",
            "block5_conv2 (Conv2D)        (None, 2, 2, 512)         2359808   \n",
            "_________________________________________________________________\n",
            "block5_conv3 (Conv2D)        (None, 2, 2, 512)         2359808   \n",
            "_________________________________________________________________\n",
            "block5_pool (MaxPooling2D)   (None, 1, 1, 512)         0         \n",
            "_________________________________________________________________\n",
            "global_max_pooling2d (Global (None, 512)               0         \n",
            "=================================================================\n",
            "Total params: 14,714,688\n",
            "Trainable params: 0\n",
            "Non-trainable params: 14,714,688\n",
            "_________________________________________________________________\n"
          ],
          "name": "stdout"
        }
      ]
    },
    {
      "cell_type": "code",
      "metadata": {
        "colab_type": "code",
        "id": "l7vRWMD_ssXN",
        "outputId": "2012e08e-5cd9-4787-e25e-e73a12156a89",
        "colab": {
          "base_uri": "https://localhost:8080/",
          "height": 34
        }
      },
      "source": [
        "print(\"Number of layers in the base model: \", len(base_model.layers))"
      ],
      "execution_count": 0,
      "outputs": [
        {
          "output_type": "stream",
          "text": [
            "Number of layers in the base model:  20\n"
          ],
          "name": "stdout"
        }
      ]
    },
    {
      "cell_type": "code",
      "metadata": {
        "colab_type": "code",
        "id": "_fZhk2Ajkpkz",
        "colab": {}
      },
      "source": [
        "model = tf.keras.Sequential([\n",
        "  base_model,\n",
        "  #tf.keras.layers.GlobalAveragePooling2D(),\n",
        "  #tf.keras.layers.Flatten(),\n",
        " # tf.keras.layers.Dropout(0.4),\n",
        " # tf.keras.layers.Dense(128),\n",
        "  #tf.keras.layers.Activation('relu'),\n",
        "  tf.keras.layers.Flatten(),\n",
        "  #tf.keras.layers.Dropout(0.2),\n",
        "  #tf.keras.layers.BatchNormalization(),\n",
        "  #tf.keras.layers.Dropout(0.2),\n",
        "  #tf.keras.layers.Flatten(),\n",
        "  tf.keras.layers.Dense(256),\n",
        "  tf.keras.layers.Activation('relu'),\n",
        "  tf.keras.layers.Dropout(0.5),\n",
        "  #tf.keras.layers.GlobalAveragePooling2D(),\n",
        "  tf.keras.layers.Dense(1),\n",
        "  tf.keras.layers.Activation('sigmoid')\n",
        "])"
      ],
      "execution_count": 0,
      "outputs": []
    },
    {
      "cell_type": "code",
      "metadata": {
        "colab_type": "code",
        "id": "l-AHarpZnMsz",
        "outputId": "5284dcd8-2e58-4910-efe2-78e50a9f256c",
        "colab": {
          "base_uri": "https://localhost:8080/",
          "height": 459
        }
      },
      "source": [
        "model.summary()"
      ],
      "execution_count": 0,
      "outputs": [
        {
          "output_type": "stream",
          "text": [
            "_________________________________________________________________\n",
            "Layer (type)                 Output Shape              Param #   \n",
            "=================================================================\n",
            "vgg16 (Model)                (None, 512)               14714688  \n",
            "_________________________________________________________________\n",
            "flatten (Flatten)            (None, 512)               0         \n",
            "_________________________________________________________________\n",
            "dense (Dense)                (None, 256)               131328    \n",
            "_________________________________________________________________\n",
            "activation (Activation)      (None, 256)               0         \n",
            "_________________________________________________________________\n",
            "dropout (Dropout)            (None, 256)               0         \n",
            "_________________________________________________________________\n",
            "dense_1 (Dense)              (None, 1)                 257       \n",
            "_________________________________________________________________\n",
            "activation_1 (Activation)    (None, 1)                 0         \n",
            "=================================================================\n",
            "Total params: 14,846,273\n",
            "Trainable params: 131,585\n",
            "Non-trainable params: 14,714,688\n",
            "_________________________________________________________________\n"
          ],
          "name": "stdout"
        }
      ]
    },
    {
      "cell_type": "code",
      "metadata": {
        "colab_type": "code",
        "id": "FULNI8OAyvrt",
        "outputId": "3efa7999-ee36-4af9-aaa2-3be5a844b8a1",
        "colab": {
          "base_uri": "https://localhost:8080/",
          "height": 34
        }
      },
      "source": [
        "len(model.trainable_variables)"
      ],
      "execution_count": 0,
      "outputs": [
        {
          "output_type": "execute_result",
          "data": {
            "text/plain": [
              "4"
            ]
          },
          "metadata": {
            "tags": []
          },
          "execution_count": 21
        }
      ]
    },
    {
      "cell_type": "code",
      "metadata": {
        "colab_type": "code",
        "id": "FC8YACD_YyL4",
        "colab": {}
      },
      "source": [
        "base_learning_rate = 0.0001\n",
        "model.compile(optimizer=tf.keras.optimizers.Adam(lr=base_learning_rate),\n",
        "              loss='binary_crossentropy',\n",
        "              metrics=['accuracy'])"
      ],
      "execution_count": 0,
      "outputs": []
    },
    {
      "cell_type": "code",
      "metadata": {
        "colab_type": "code",
        "id": "yI7pTd_ys3bB",
        "colab": {}
      },
      "source": [
        "es = [\n",
        "    keras.callbacks.EarlyStopping(\n",
        "        # Stop training when `val_loss` is no longer improving\n",
        "        monitor='val_loss',\n",
        "        # \"no longer improving\" being defined as \"no better than 1e-2 less\"\n",
        "        min_delta=1e-2,\n",
        "        # \"no longer improving\" being further defined as \"for at least 2 epochs\"\n",
        "        patience=10,\n",
        "        verbose=1)\n",
        "]\n",
        "\n",
        "mcp = [\n",
        "    keras.callbacks.ModelCheckpoint(\n",
        "        filepath='mymodel_{epoch}.h5',\n",
        "        # Path where to save the model\n",
        "        # The two parameters below mean that we will overwrite\n",
        "        # the current checkpoint if and only if\n",
        "        # the `val_loss` score has improved.\n",
        "        save_best_only=True,\n",
        "        monitor='val_loss',\n",
        "        verbose=1)\n",
        "]"
      ],
      "execution_count": 0,
      "outputs": []
    },
    {
      "cell_type": "code",
      "metadata": {
        "_kg_hide-output": true,
        "colab_type": "code",
        "id": "47eb9JQQLiDb",
        "outputId": "966d7b76-11d5-498e-9251-866d58dd3140",
        "colab": {
          "base_uri": "https://localhost:8080/",
          "height": 785
        }
      },
      "source": [
        "%%time\n",
        "\n",
        "#STEP_SIZE_TRAIN=train_generator.n//train_generator.batch_size\n",
        "#STEP_SIZE_VALID=valid_generator.n//valid_generator.batch_size\n",
        "#STEP_SIZE_TEST=test_generator.n//test_generator.batch_size\n",
        "#print(\" Train size {} Test Size {}\",STEP_SIZE_TRAIN,STEP_SIZE_VALID)\n",
        "#hist=model.fit_generator(generator=train_generator,\n",
        "#                    steps_per_epoch=STEP_SIZE_TRAIN,\n",
        "#                    validation_data=valid_generator,\n",
        "#                    validation_steps=STEP_SIZE_VALID,\n",
        "#                    epochs=400,\n",
        "#                    callbacks=es\n",
        "#)\n"
      ],
      "execution_count": 0,
      "outputs": [
        {
          "output_type": "stream",
          "text": [
            "CPU times: user 0 ns, sys: 0 ns, total: 0 ns\n",
            "Wall time: 23.6 µs\n"
          ],
          "name": "stdout"
        }
      ]
    },
    {
      "cell_type": "code",
      "metadata": {
        "colab_type": "code",
        "id": "lfl7FIv6YsLd",
        "outputId": "4bb4ab6e-23f6-4382-8f3b-d0e93b99df94",
        "colab": {
          "base_uri": "https://localhost:8080/",
          "height": 34
        }
      },
      "source": [
        "print(\"Number of layers in the base model: \", len(model.layers))\n"
      ],
      "execution_count": 0,
      "outputs": [
        {
          "output_type": "stream",
          "text": [
            "Number of layers in the base model:  7\n"
          ],
          "name": "stdout"
        }
      ]
    },
    {
      "cell_type": "code",
      "metadata": {
        "colab_type": "code",
        "id": "_PXBNybVsMji",
        "outputId": "184633f3-efe7-481b-e654-4599cceee904",
        "colab": {
          "base_uri": "https://localhost:8080/",
          "height": 34
        }
      },
      "source": [
        "X_tr = []\n",
        "Y_tr = []\n",
        "imges = train['id'].values\n",
        "for img_id in tqdm_notebook(imges):\n",
        "    X_tr.append(cv2.imread(defaultTrainPath + img_id))    \n",
        "    Y_tr.append(train[train['id'] == img_id]['has_cactus'].values[0])  \n",
        "X_tr = np.asarray(X_tr)\n",
        "X_tr = X_tr.astype('float32')\n",
        "X_tr /= 255\n",
        "Y_tr = np.asarray(Y_tr)"
      ],
      "execution_count": 0,
      "outputs": [
        {
          "output_type": "display_data",
          "data": {
            "application/vnd.jupyter.widget-view+json": {
              "model_id": "d30abda9edd7407396609150e5444796",
              "version_major": 2,
              "version_minor": 0
            },
            "text/plain": [
              "HBox(children=(IntProgress(value=0, max=17500), HTML(value='')))"
            ]
          },
          "metadata": {
            "tags": []
          }
        },
        {
          "output_type": "stream",
          "text": [
            "\n"
          ],
          "name": "stdout"
        }
      ]
    },
    {
      "cell_type": "code",
      "metadata": {
        "colab_type": "code",
        "id": "E5bD7QnyBFSF",
        "outputId": "991b09c2-955d-4941-cb27-8eb1cd10b966",
        "colab": {
          "base_uri": "https://localhost:8080/",
          "height": 187
        }
      },
      "source": [
        "%%time\n",
        "batch_size = 32\n",
        "nb_epoch = 40\n",
        "\n",
        "# Train model\n",
        "history = model.fit(X_tr, Y_tr,\n",
        "              batch_size=batch_size,\n",
        "              epochs=nb_epoch,\n",
        "              validation_split=0.1,\n",
        "              shuffle=True,\n",
        "              verbose=2\n",
        "             # callbacks=es\n",
        "              )"
      ],
      "execution_count": 0,
      "outputs": [
        {
          "output_type": "stream",
          "text": [
            "Train on 15750 samples, validate on 1750 samples\n",
            "Epoch 1/40\n",
            " - 8s - loss: 0.3435 - acc: 0.8509 - val_loss: 0.1989 - val_acc: 0.9469\n",
            "Epoch 2/40\n",
            " - 4s - loss: 0.1829 - acc: 0.9353 - val_loss: 0.1474 - val_acc: 0.9566\n",
            "Epoch 3/40\n",
            " - 4s - loss: 0.1468 - acc: 0.9474 - val_loss: 0.1274 - val_acc: 0.9554\n",
            "Epoch 4/40\n",
            " - 4s - loss: 0.1321 - acc: 0.9524 - val_loss: 0.1156 - val_acc: 0.9611\n",
            "Epoch 5/40\n",
            " - 4s - loss: 0.1209 - acc: 0.9555 - val_loss: 0.1097 - val_acc: 0.9611\n",
            "Epoch 6/40\n",
            " - 4s - loss: 0.1138 - acc: 0.9583 - val_loss: 0.1017 - val_acc: 0.9623\n",
            "Epoch 7/40\n",
            " - 4s - loss: 0.1068 - acc: 0.9613 - val_loss: 0.0986 - val_acc: 0.9657\n",
            "Epoch 8/40\n",
            " - 4s - loss: 0.1025 - acc: 0.9613 - val_loss: 0.0939 - val_acc: 0.9646\n",
            "Epoch 9/40\n",
            " - 4s - loss: 0.0997 - acc: 0.9637 - val_loss: 0.0901 - val_acc: 0.9657\n",
            "Epoch 10/40\n",
            " - 4s - loss: 0.0963 - acc: 0.9637 - val_loss: 0.0876 - val_acc: 0.9657\n",
            "Epoch 11/40\n",
            " - 4s - loss: 0.0931 - acc: 0.9668 - val_loss: 0.0856 - val_acc: 0.9669\n",
            "Epoch 12/40\n",
            " - 4s - loss: 0.0899 - acc: 0.9674 - val_loss: 0.0836 - val_acc: 0.9669\n",
            "Epoch 13/40\n",
            " - 4s - loss: 0.0867 - acc: 0.9684 - val_loss: 0.0838 - val_acc: 0.9691\n",
            "Epoch 14/40\n",
            " - 4s - loss: 0.0857 - acc: 0.9686 - val_loss: 0.0839 - val_acc: 0.9697\n",
            "Epoch 15/40\n",
            " - 4s - loss: 0.0834 - acc: 0.9698 - val_loss: 0.0795 - val_acc: 0.9674\n",
            "Epoch 16/40\n",
            " - 4s - loss: 0.0824 - acc: 0.9691 - val_loss: 0.0787 - val_acc: 0.9714\n",
            "Epoch 17/40\n",
            " - 4s - loss: 0.0797 - acc: 0.9710 - val_loss: 0.0771 - val_acc: 0.9686\n",
            "Epoch 18/40\n",
            " - 4s - loss: 0.0784 - acc: 0.9710 - val_loss: 0.0762 - val_acc: 0.9674\n",
            "Epoch 19/40\n",
            " - 4s - loss: 0.0760 - acc: 0.9723 - val_loss: 0.0747 - val_acc: 0.9714\n",
            "Epoch 20/40\n",
            " - 4s - loss: 0.0753 - acc: 0.9714 - val_loss: 0.0749 - val_acc: 0.9714\n",
            "Epoch 21/40\n",
            " - 4s - loss: 0.0741 - acc: 0.9724 - val_loss: 0.0743 - val_acc: 0.9697\n",
            "Epoch 22/40\n",
            " - 4s - loss: 0.0728 - acc: 0.9723 - val_loss: 0.0739 - val_acc: 0.9714\n",
            "Epoch 23/40\n",
            " - 4s - loss: 0.0728 - acc: 0.9733 - val_loss: 0.0717 - val_acc: 0.9726\n",
            "Epoch 24/40\n",
            " - 4s - loss: 0.0712 - acc: 0.9737 - val_loss: 0.0725 - val_acc: 0.9709\n",
            "Epoch 25/40\n",
            " - 4s - loss: 0.0719 - acc: 0.9738 - val_loss: 0.0744 - val_acc: 0.9709\n",
            "Epoch 26/40\n",
            " - 4s - loss: 0.0691 - acc: 0.9743 - val_loss: 0.0711 - val_acc: 0.9714\n",
            "Epoch 27/40\n",
            " - 4s - loss: 0.0690 - acc: 0.9743 - val_loss: 0.0709 - val_acc: 0.9709\n",
            "Epoch 28/40\n",
            " - 4s - loss: 0.0667 - acc: 0.9757 - val_loss: 0.0703 - val_acc: 0.9703\n",
            "Epoch 29/40\n",
            " - 4s - loss: 0.0666 - acc: 0.9757 - val_loss: 0.0704 - val_acc: 0.9709\n",
            "Epoch 30/40\n",
            " - 4s - loss: 0.0654 - acc: 0.9759 - val_loss: 0.0689 - val_acc: 0.9703\n",
            "Epoch 31/40\n",
            " - 4s - loss: 0.0646 - acc: 0.9758 - val_loss: 0.0687 - val_acc: 0.9726\n",
            "Epoch 32/40\n",
            " - 4s - loss: 0.0639 - acc: 0.9769 - val_loss: 0.0728 - val_acc: 0.9726\n",
            "Epoch 33/40\n",
            " - 4s - loss: 0.0621 - acc: 0.9774 - val_loss: 0.0680 - val_acc: 0.9749\n",
            "Epoch 34/40\n",
            " - 4s - loss: 0.0633 - acc: 0.9761 - val_loss: 0.0694 - val_acc: 0.9749\n",
            "Epoch 35/40\n",
            " - 4s - loss: 0.0612 - acc: 0.9766 - val_loss: 0.0663 - val_acc: 0.9737\n",
            "Epoch 36/40\n",
            " - 4s - loss: 0.0602 - acc: 0.9779 - val_loss: 0.0663 - val_acc: 0.9737\n",
            "Epoch 37/40\n",
            " - 4s - loss: 0.0607 - acc: 0.9779 - val_loss: 0.0667 - val_acc: 0.9726\n",
            "Epoch 38/40\n",
            " - 4s - loss: 0.0598 - acc: 0.9786 - val_loss: 0.0667 - val_acc: 0.9737\n",
            "Epoch 39/40\n",
            " - 4s - loss: 0.0587 - acc: 0.9785 - val_loss: 0.0661 - val_acc: 0.9737\n",
            "Epoch 40/40\n",
            " - 4s - loss: 0.0593 - acc: 0.9779 - val_loss: 0.0658 - val_acc: 0.9737\n",
            "CPU times: user 2min 22s, sys: 18.1 s, total: 2min 40s\n",
            "Wall time: 2min 56s\n"
          ],
          "name": "stdout"
        }
      ]
    },
    {
      "cell_type": "code",
      "metadata": {
        "colab_type": "code",
        "id": "vjskTKPcsKon",
        "outputId": "aaf3246f-75e8-44d8-b3cf-eb4df0ce4094",
        "colab": {
          "base_uri": "https://localhost:8080/",
          "height": 513
        }
      },
      "source": [
        "acc = history.history['acc']\n",
        "val_acc = history.history['val_acc']\n",
        "\n",
        "loss = history.history['loss']\n",
        "val_loss = history.history['val_loss']\n",
        "\n",
        "plt.figure(figsize=(8, 8))\n",
        "plt.subplot(2, 1, 1)\n",
        "plt.plot(acc, label='Training Accuracy')\n",
        "plt.plot(val_acc, label='Validation Accuracy')\n",
        "plt.legend(loc='lower right')\n",
        "plt.ylabel('Accuracy')\n",
        "plt.ylim([min(plt.ylim()),1])\n",
        "plt.title('Training and Validation Accuracy')\n",
        "\n",
        "plt.subplot(2, 1, 2)\n",
        "plt.plot(loss, label='Training Loss')\n",
        "plt.plot(val_loss, label='Validation Loss')\n",
        "plt.legend(loc='upper right')\n",
        "plt.ylabel('Cross Entropy')\n",
        "plt.ylim([0,5.0])\n",
        "plt.title('Training and Validation Loss')\n",
        "plt.xlabel('epoch')\n",
        "plt.show()"
      ],
      "execution_count": 0,
      "outputs": [
        {
          "output_type": "display_data",
          "data": {
            "image/png": "[encoded data removed]",
            "text/plain": [
              "<Figure size 576x576 with 2 Axes>"
            ]
          },
          "metadata": {
            "tags": [],
            "needs_background": "light"
          }
        }
      ]
    },
    {
      "cell_type": "code",
      "metadata": {
        "colab_type": "code",
        "id": "2IyKCA9AB07N",
        "outputId": "f73e80e8-7089-4c25-d084-adebc1b8d742",
        "colab": {
          "base_uri": "https://localhost:8080/",
          "height": 68
        }
      },
      "source": [
        "%%time\n",
        "X_tst = []\n",
        "Test_imgs = []\n",
        "for img_id in tqdm_notebook(os.listdir(defaultTestPath)):\n",
        "    X_tst.append(cv2.imread(defaultTestPath + img_id))     \n",
        "    Test_imgs.append(img_id)\n",
        "X_tst = np.asarray(X_tst)\n",
        "X_tst = X_tst.astype('float32')\n",
        "X_tst /= 255\n"
      ],
      "execution_count": 0,
      "outputs": [
        {
          "output_type": "display_data",
          "data": {
            "application/vnd.jupyter.widget-view+json": {
              "model_id": "d1e935ab509240bd9a7c0f9a90b4fefc",
              "version_major": 2,
              "version_minor": 0
            },
            "text/plain": [
              "HBox(children=(IntProgress(value=0, max=4000), HTML(value='')))"
            ]
          },
          "metadata": {
            "tags": []
          }
        },
        {
          "output_type": "stream",
          "text": [
            "\n",
            "CPU times: user 964 ms, sys: 944 ms, total: 1.91 s\n",
            "Wall time: 8.92 s\n"
          ],
          "name": "stdout"
        }
      ]
    },
    {
      "cell_type": "code",
      "metadata": {
        "colab_type": "code",
        "id": "huuvvI2hO9Wk",
        "outputId": "944054c6-6770-4610-9e84-acf9833f3ca5",
        "colab": {
          "base_uri": "https://localhost:8080/",
          "height": 111
        }
      },
      "source": [
        "# Prediction\n",
        "test_predictions = model.predict(X_tst)\n",
        "\n",
        "sub_df = pd.DataFrame(test_predictions, columns=['has_cactus'])\n",
        "sub_df['has_cactus'] = sub_df['has_cactus'].apply(lambda x: 1 if x > 0.75 else 0)\n",
        "\n",
        "sub_df['id'] = ''\n",
        "cols = sub_df.columns.tolist()\n",
        "cols = cols[-1:] + cols[:-1]\n",
        "sub_df=sub_df[cols]\n",
        "\n",
        "for i, img in enumerate(Test_imgs):\n",
        "    sub_df.set_value(i,'id',img)"
      ],
      "execution_count": 0,
      "outputs": [
        {
          "output_type": "stream",
          "text": [
            "/opt/conda/lib/python3.6/site-packages/ipykernel_launcher.py:13: FutureWarning: set_value is deprecated and will be removed in a future release. Please use .at[] or .iat[] accessors instead\n",
            "  del sys.path[0]\n"
          ],
          "name": "stderr"
        }
      ]
    },
    {
      "cell_type": "code",
      "metadata": {
        "colab_type": "code",
        "id": "1rCcTk3MPR_M",
        "outputId": "29d916bf-e37a-4fdc-96df-9cc5f3ebea5d",
        "colab": {
          "base_uri": "https://localhost:8080/",
          "height": 204
        }
      },
      "source": [
        "sub_df.head()"
      ],
      "execution_count": 0,
      "outputs": [
        {
          "output_type": "execute_result",
          "data": {
            "text/html": [
              "<div>\n",
              "<style scoped>\n",
              "    .dataframe tbody tr th:only-of-type {\n",
              "        vertical-align: middle;\n",
              "    }\n",
              "\n",
              "    .dataframe tbody tr th {\n",
              "        vertical-align: top;\n",
              "    }\n",
              "\n",
              "    .dataframe thead th {\n",
              "        text-align: right;\n",
              "    }\n",
              "</style>\n",
              "<table border=\"1\" class=\"dataframe\">\n",
              "  <thead>\n",
              "    <tr style=\"text-align: right;\">\n",
              "      <th></th>\n",
              "      <th>id</th>\n",
              "      <th>has_cactus</th>\n",
              "    </tr>\n",
              "  </thead>\n",
              "  <tbody>\n",
              "    <tr>\n",
              "      <th>0</th>\n",
              "      <td>9cdda32671cb192f096b20c91b46a150.jpg</td>\n",
              "      <td>1</td>\n",
              "    </tr>\n",
              "    <tr>\n",
              "      <th>1</th>\n",
              "      <td>da498fc860c8b76ca925c4218c5f0373.jpg</td>\n",
              "      <td>0</td>\n",
              "    </tr>\n",
              "    <tr>\n",
              "      <th>2</th>\n",
              "      <td>433052030eeb117e4bd8f6ce033c9da4.jpg</td>\n",
              "      <td>1</td>\n",
              "    </tr>\n",
              "    <tr>\n",
              "      <th>3</th>\n",
              "      <td>4c76899a6e4b4a6cfdd2f28707fa8114.jpg</td>\n",
              "      <td>0</td>\n",
              "    </tr>\n",
              "    <tr>\n",
              "      <th>4</th>\n",
              "      <td>9efa3e92c1475b3ce4b7e2e598fa2785.jpg</td>\n",
              "      <td>1</td>\n",
              "    </tr>\n",
              "  </tbody>\n",
              "</table>\n",
              "</div>"
            ],
            "text/plain": [
              "                                     id  has_cactus\n",
              "0  9cdda32671cb192f096b20c91b46a150.jpg           1\n",
              "1  da498fc860c8b76ca925c4218c5f0373.jpg           0\n",
              "2  433052030eeb117e4bd8f6ce033c9da4.jpg           1\n",
              "3  4c76899a6e4b4a6cfdd2f28707fa8114.jpg           0\n",
              "4  9efa3e92c1475b3ce4b7e2e598fa2785.jpg           1"
            ]
          },
          "metadata": {
            "tags": []
          },
          "execution_count": 31
        }
      ]
    },
    {
      "cell_type": "code",
      "metadata": {
        "colab_type": "code",
        "id": "HYftF3VTDb5N",
        "colab": {}
      },
      "source": [
        "sub_df.to_csv('submission.csv',index = False)"
      ],
      "execution_count": 0,
      "outputs": []
    },
    {
      "cell_type": "code",
      "metadata": {
        "id": "7vBYN4ldFoNB",
        "colab_type": "code",
        "colab": {}
      },
      "source": [
        ""
      ],
      "execution_count": 0,
      "outputs": []
    }
  ]
}